{
 "cells": [
  {
   "cell_type": "code",
   "execution_count": 29,
   "metadata": {},
   "outputs": [],
   "source": [
    "execfile(\"setup_fraud.txt\")"
   ]
  },
  {
   "cell_type": "code",
   "execution_count": 30,
   "metadata": {},
   "outputs": [],
   "source": [
    "from sklearn.ensemble import RandomForestClassifier\n",
    "from sklearn.model_selection import train_test_split"
   ]
  },
  {
   "cell_type": "code",
   "execution_count": 31,
   "metadata": {},
   "outputs": [
    {
     "name": "stdout",
     "output_type": "stream",
     "text": [
      "('train data X size:', (700, 110))\n",
      "('train data Y size:', (700L,))\n",
      "('test data X size:', (300, 110))\n",
      "('test data Y size:', (300L,))\n"
     ]
    }
   ],
   "source": [
    "df_x=df.drop([\"fraud_reported\",\"auto_make\",\"auto_model\"], axis=1, inplace=False)\n",
    "df_x=pd.get_dummies(df_x)\n",
    "df_y=df[\"fraud_reported\"]\n",
    "df_train_x, df_test_x, df_train_y, df_test_y = train_test_split(df_x, df_y, test_size=0.3, random_state=1234)\n",
    "\n",
    "print(\"train data X size:\",df_train_x.shape)\n",
    "print(\"train data Y size:\",df_train_y.shape)\n",
    "print(\"test data X size:\",df_test_x.shape)\n",
    "print(\"test data Y size:\",df_test_y.shape)"
   ]
  },
  {
   "cell_type": "code",
   "execution_count": 32,
   "metadata": {},
   "outputs": [
    {
     "name": "stdout",
     "output_type": "stream",
     "text": [
      "Accuracy on training set: 0.987\n",
      "Accuracy on test set: 0.773\n"
     ]
    }
   ],
   "source": [
    "rf_uncustomized = RandomForestClassifier(random_state=1234)\n",
    "rf_uncustomized.fit(df_train_x, df_train_y)\n",
    "print(\"Accuracy on training set: {:.3f}\".format(rf_uncustomized.score(df_train_x,df_train_y)))\n",
    "print(\"Accuracy on test set: {:.3f}\".format(rf_uncustomized.score(df_test_x,df_test_y)))"
   ]
  }
 ],
 "metadata": {
  "kernelspec": {
   "display_name": "Python 2",
   "language": "python",
   "name": "python2"
  },
  "language_info": {
   "codemirror_mode": {
    "name": "ipython",
    "version": 2
   },
   "file_extension": ".py",
   "mimetype": "text/x-python",
   "name": "python",
   "nbconvert_exporter": "python",
   "pygments_lexer": "ipython2",
   "version": "2.7.16"
  }
 },
 "nbformat": 4,
 "nbformat_minor": 2
}
